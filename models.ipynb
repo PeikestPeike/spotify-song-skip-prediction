{
 "cells": [
  {
   "cell_type": "code",
   "execution_count": 1,
   "id": "96a513a6",
   "metadata": {},
   "outputs": [],
   "source": [
    "import pandas as pd\n",
    "import matplotlib.pyplot as plt\n",
    "import seaborn as sns"
   ]
  },
  {
   "cell_type": "markdown",
   "id": "aa8eb804",
   "metadata": {},
   "source": [
    "# Structure of this notebook:\n",
    "1. Import preprocessed data (exported at the end of EDA)\n",
    "2. Select features, train-test-split\n",
    "3. Modeling\n",
    "    - Logistic Regression (98% prediction accuracy on test set)\n",
    "        - Train model\n",
    "        - Model performance on test set\n",
    "        - Feature importance\n",
    "    - Random Forest (99% prediction accuracy on test set)\n",
    "        - Train model\n",
    "        - Model performance on test set\n",
    "        - Feature importance"
   ]
  },
  {
   "cell_type": "markdown",
   "id": "041860c1",
   "metadata": {},
   "source": [
    "## Import processed data"
   ]
  },
  {
   "cell_type": "code",
   "execution_count": 2,
   "id": "c22866b1",
   "metadata": {},
   "outputs": [],
   "source": [
    "merged = pd.read_csv(\"merged.csv\", index_col=0)\n",
    "merged_dummy = pd.read_csv(\"merged_dummy.csv\", index_col=0)"
   ]
  },
  {
   "cell_type": "markdown",
   "id": "0b199974",
   "metadata": {},
   "source": [
    "__merged_dummy is the one used for modeling!__ See Feature Engineering section at the end of my EDA notebook for details"
   ]
  },
  {
   "cell_type": "code",
   "execution_count": 3,
   "id": "40ebc26b",
   "metadata": {},
   "outputs": [
    {
     "data": {
      "text/plain": [
       "((167880, 51), (167880, 63))"
      ]
     },
     "execution_count": 3,
     "metadata": {},
     "output_type": "execute_result"
    }
   ],
   "source": [
    "merged.shape, merged_dummy.shape"
   ]
  },
  {
   "cell_type": "markdown",
   "id": "1e840df6",
   "metadata": {},
   "source": [
    "## Feature selection and train-test-split"
   ]
  },
  {
   "cell_type": "code",
   "execution_count": 4,
   "id": "c0c4c71f",
   "metadata": {},
   "outputs": [
    {
     "data": {
      "text/plain": [
       "Index(['session_id', 'session_position', 'session_length', 'track_id_clean',\n",
       "       'skip_1', 'skip_2', 'skip_3', 'not_skipped', 'context_switch',\n",
       "       'no_pause_before_play', 'short_pause_before_play',\n",
       "       'long_pause_before_play', 'hist_user_behavior_n_seekfwd',\n",
       "       'hist_user_behavior_n_seekback', 'hist_user_behavior_is_shuffle',\n",
       "       'hour_of_day', 'date', 'premium', 'context_type',\n",
       "       'hist_user_behavior_reason_start', 'hist_user_behavior_reason_end',\n",
       "       'track_id', 'duration', 'release_year', 'us_popularity_estimate',\n",
       "       'acousticness', 'beat_strength', 'bounciness', 'danceability',\n",
       "       'dyn_range_mean', 'energy', 'flatness', 'instrumentalness', 'key',\n",
       "       'liveness', 'loudness', 'mechanism', 'mode', 'organism', 'speechiness',\n",
       "       'tempo', 'time_signature', 'valence', 'acoustic_vector_0',\n",
       "       'acoustic_vector_1', 'acoustic_vector_2', 'acoustic_vector_3',\n",
       "       'acoustic_vector_4', 'acoustic_vector_5', 'acoustic_vector_6',\n",
       "       'acoustic_vector_7'],\n",
       "      dtype='object')"
      ]
     },
     "execution_count": 4,
     "metadata": {},
     "output_type": "execute_result"
    }
   ],
   "source": [
    "merged.columns"
   ]
  },
  {
   "cell_type": "markdown",
   "id": "f2b4d6eb",
   "metadata": {},
   "source": [
    "#### feature selection"
   ]
  },
  {
   "cell_type": "code",
   "execution_count": 5,
   "id": "e2c20415",
   "metadata": {},
   "outputs": [],
   "source": [
    "# include all numerical, bool, and \"useful\" multicategorical variables (\"useful\" is based on EDA)\n",
    "columns_to_drop = ['session_id', 'track_id_clean', 'skip_1', 'skip_2', 'skip_3', 'not_skipped', 'track_id', 'date',  'context_type', 'mode']\n",
    "X = merged_dummy.drop(columns_to_drop, axis=1)\n",
    "y = merged_dummy['not_skipped']"
   ]
  },
  {
   "cell_type": "markdown",
   "id": "2a451e33",
   "metadata": {},
   "source": [
    "#### train-test-split"
   ]
  },
  {
   "cell_type": "code",
   "execution_count": 6,
   "id": "67d69638",
   "metadata": {},
   "outputs": [],
   "source": [
    "from sklearn.model_selection import train_test_split\n",
    "X_train, X_test, y_train, y_test = train_test_split(X, y, test_size = 0.3)"
   ]
  },
  {
   "cell_type": "code",
   "execution_count": 7,
   "id": "5f9600c3",
   "metadata": {},
   "outputs": [
    {
     "data": {
      "text/plain": [
       "((117516, 53), (50364, 53), (117516,), (50364,))"
      ]
     },
     "execution_count": 7,
     "metadata": {},
     "output_type": "execute_result"
    }
   ],
   "source": [
    "X_train.shape, X_test.shape, y_train.shape, y_test.shape"
   ]
  },
  {
   "cell_type": "markdown",
   "id": "277ba315",
   "metadata": {},
   "source": [
    "## Modeling"
   ]
  },
  {
   "cell_type": "markdown",
   "id": "a180bb75",
   "metadata": {},
   "source": [
    "### Logistic Regression"
   ]
  },
  {
   "cell_type": "markdown",
   "id": "ef9648df",
   "metadata": {},
   "source": [
    "#### Train model"
   ]
  },
  {
   "cell_type": "code",
   "execution_count": 8,
   "id": "3a028338",
   "metadata": {},
   "outputs": [
    {
     "data": {
      "text/plain": [
       "0.9865181478834087"
      ]
     },
     "execution_count": 8,
     "metadata": {},
     "output_type": "execute_result"
    }
   ],
   "source": [
    "from sklearn.linear_model import LogisticRegression\n",
    "from sklearn.model_selection import cross_val_score\n",
    "\n",
    "# this is a bit slow\n",
    "m = LogisticRegression(max_iter = 4000)\n",
    "m.fit(X_train, y_train)\n",
    "\n",
    "# prediction accuracy on test set\n",
    "m.score(X_test, y_test)"
   ]
  },
  {
   "cell_type": "markdown",
   "id": "641972fd",
   "metadata": {},
   "source": [
    "#### Model performance metrics"
   ]
  },
  {
   "cell_type": "code",
   "execution_count": 11,
   "id": "6d27033f",
   "metadata": {},
   "outputs": [],
   "source": [
    "# Predicted y for X_test\n",
    "y_test_pred = m.predict(X_test)"
   ]
  },
  {
   "cell_type": "code",
   "execution_count": 12,
   "id": "b46e95c9",
   "metadata": {},
   "outputs": [
    {
     "data": {
      "text/plain": [
       "0.9681144129886876"
      ]
     },
     "execution_count": 12,
     "metadata": {},
     "output_type": "execute_result"
    }
   ],
   "source": [
    "# Precision\n",
    "# Among those predicted not skipped, what proportion are truly not skipped?\n",
    "\n",
    "from sklearn.metrics import precision_score\n",
    "\n",
    "# True labels (ground truth)\n",
    "true_labels = y_test\n",
    "\n",
    "# Predicted labels\n",
    "predicted_labels = y_test_pred\n",
    "\n",
    "# Calculate precision\n",
    "precision = precision_score(true_labels, predicted_labels)\n",
    "precision"
   ]
  },
  {
   "cell_type": "code",
   "execution_count": 19,
   "id": "e61f416c",
   "metadata": {},
   "outputs": [
    {
     "data": {
      "image/png": "[encoded data removed]",
      "text/plain": [
       "<Figure size 432x288 with 2 Axes>"
      ]
     },
     "metadata": {
      "needs_background": "light"
     },
     "output_type": "display_data"
    }
   ],
   "source": [
    "from sklearn.metrics import confusion_matrix\n",
    "\n",
    "class_names=[\"Not Skipped\", \"Skipped\"]\n",
    "fig, ax = plt.subplots()\n",
    "\n",
    "sns.heatmap(pd.DataFrame(confusion_matrix(y_test, y_test_pred)), annot=True, cmap=\"YlGnBu\" ,fmt='g')\n",
    "\n",
    "plt.tight_layout()\n",
    "plt.title('Confusion Matrix of Logistic Regression Model', y=1.1)\n",
    "plt.ylabel('Actual')\n",
    "plt.xlabel('Predicted')\n",
    "ax.set_xticklabels(class_names)\n",
    "ax.set_yticklabels(class_names)\n",
    "\n",
    "plt.savefig(\"confusion_matrix_logistic.png\", dpi=300, bbox_inches='tight')"
   ]
  },
  {
   "cell_type": "code",
   "execution_count": 29,
   "id": "9dfe4bcd",
   "metadata": {},
   "outputs": [
    {
     "data": {
      "image/png": "[encoded data removed]",
      "text/plain": [
       "<Figure size 576x432 with 1 Axes>"
      ]
     },
     "metadata": {
      "needs_background": "light"
     },
     "output_type": "display_data"
    }
   ],
   "source": [
    "import matplotlib.pyplot as plt\n",
    "from sklearn.metrics import roc_curve, auc\n",
    "\n",
    "# ROC curve\n",
    "y_score = m.predict_proba(X_test)[:, 1]  # Probability of class 1\n",
    "fpr, tpr, _ = roc_curve(y_test, y_score)\n",
    "roc_auc = auc(fpr, tpr)\n",
    "\n",
    "plt.figure(figsize=(8, 6))\n",
    "plt.plot(fpr, tpr, color='darkorange', lw=2, label='ROC curve (area = {:.2f})'.format(roc_auc))\n",
    "plt.plot([0, 1], [0, 1], color='navy', lw=2, linestyle='--')\n",
    "plt.xlim([0.0, 1.0])\n",
    "plt.ylim([0.0, 1.05])\n",
    "plt.xlabel('False Positive Rate')\n",
    "plt.ylabel('True Positive Rate')\n",
    "plt.title('Receiver Operating Characteristic (ROC) for Logistic Regression')\n",
    "plt.legend(loc='lower right')\n",
    "plt.savefig(\"ROC_logistic.png\", dpi=300)\n",
    "plt.show()"
   ]
  },
  {
   "cell_type": "markdown",
   "id": "a1fcf91a",
   "metadata": {},
   "source": [
    "#### Feature importance"
   ]
  },
  {
   "cell_type": "code",
   "execution_count": 21,
   "id": "3c8e5878",
   "metadata": {},
   "outputs": [],
   "source": [
    "coefficients = m.coef_[0]\n",
    "\n",
    "# Create a DataFrame to associate coefficients with feature names\n",
    "coef_df = pd.DataFrame({'Feature': X.columns, 'Coefficient': coefficients})\n",
    "\n",
    "# Sort the DataFrame by the absolute values of coefficients to see the most important features\n",
    "coef_df['Absolute Coefficient'] = coef_df['Coefficient'].abs()\n",
    "sorted_coef_df = coef_df.sort_values(by='Absolute Coefficient', ascending=False)\n",
    "sorted_coef_df[\"Importance\"] = range(1, len(sorted_coef_df)+ 1)"
   ]
  },
  {
   "cell_type": "code",
   "execution_count": 23,
   "id": "49ca0b23",
   "metadata": {
    "scrolled": true
   },
   "outputs": [
    {
     "data": {
      "text/html": [
       "<div>\n",
       "<style scoped>\n",
       "    .dataframe tbody tr th:only-of-type {\n",
       "        vertical-align: middle;\n",
       "    }\n",
       "\n",
       "    .dataframe tbody tr th {\n",
       "        vertical-align: top;\n",
       "    }\n",
       "\n",
       "    .dataframe thead th {\n",
       "        text-align: right;\n",
       "    }\n",
       "</style>\n",
       "<table border=\"1\" class=\"dataframe\">\n",
       "  <thead>\n",
       "    <tr style=\"text-align: right;\">\n",
       "      <th></th>\n",
       "      <th>Importance</th>\n",
       "      <th>Feature</th>\n",
       "      <th>Coefficient</th>\n",
       "      <th>Absolute Coefficient</th>\n",
       "    </tr>\n",
       "  </thead>\n",
       "  <tbody>\n",
       "    <tr>\n",
       "      <th>52</th>\n",
       "      <td>1</td>\n",
       "      <td>hist_user_behavior_reason_end_trackdone</td>\n",
       "      <td>9.904501</td>\n",
       "      <td>9.904501</td>\n",
       "    </tr>\n",
       "    <tr>\n",
       "      <th>6</th>\n",
       "      <td>2</td>\n",
       "      <td>hist_user_behavior_n_seekfwd</td>\n",
       "      <td>-3.067283</td>\n",
       "      <td>3.067283</td>\n",
       "    </tr>\n",
       "    <tr>\n",
       "      <th>48</th>\n",
       "      <td>3</td>\n",
       "      <td>hist_user_behavior_reason_end_endplay</td>\n",
       "      <td>2.059239</td>\n",
       "      <td>2.059239</td>\n",
       "    </tr>\n",
       "    <tr>\n",
       "      <th>7</th>\n",
       "      <td>4</td>\n",
       "      <td>hist_user_behavior_n_seekback</td>\n",
       "      <td>1.973410</td>\n",
       "      <td>1.973410</td>\n",
       "    </tr>\n",
       "    <tr>\n",
       "      <th>45</th>\n",
       "      <td>5</td>\n",
       "      <td>hist_user_behavior_reason_start_trackdone</td>\n",
       "      <td>1.957574</td>\n",
       "      <td>1.957574</td>\n",
       "    </tr>\n",
       "  </tbody>\n",
       "</table>\n",
       "</div>"
      ],
      "text/plain": [
       "    Importance                                    Feature  Coefficient  \\\n",
       "52           1    hist_user_behavior_reason_end_trackdone     9.904501   \n",
       "6            2               hist_user_behavior_n_seekfwd    -3.067283   \n",
       "48           3      hist_user_behavior_reason_end_endplay     2.059239   \n",
       "7            4              hist_user_behavior_n_seekback     1.973410   \n",
       "45           5  hist_user_behavior_reason_start_trackdone     1.957574   \n",
       "\n",
       "    Absolute Coefficient  \n",
       "52              9.904501  \n",
       "6               3.067283  \n",
       "48              2.059239  \n",
       "7               1.973410  \n",
       "45              1.957574  "
      ]
     },
     "execution_count": 23,
     "metadata": {},
     "output_type": "execute_result"
    }
   ],
   "source": [
    "sorted_coef_df[['Importance', 'Feature', 'Coefficient', 'Absolute Coefficient']].head()"
   ]
  },
  {
   "cell_type": "markdown",
   "id": "2de7d29b",
   "metadata": {},
   "source": [
    "Behaviors about users that indicate not skipped:\n",
    "- Track is ended because: trackdone, endplay\n",
    "- Track is started because: trackdone, clickrow, fwdbtn, backbtn\n",
    "- Less seeking forward behaviors\n",
    "- More seeking back behaviors\n",
    "\n",
    "Important features of not skipped songs are: \n",
    "- Higher acousticness (acousticness is a confidence measure from 0.0 to 1.0 of whether the track is acoustic)\n",
    "- Higher speechiness: presence of spoken words\n",
    "- Lower danceability: less danceable <br>\n",
    "\n",
    "See how to interpret these features [here](https://developer.spotify.com/documentation/web-api/reference/get-several-audio-features)\n"
   ]
  },
  {
   "cell_type": "code",
   "execution_count": 34,
   "id": "21dffbf6",
   "metadata": {},
   "outputs": [
    {
     "data": {
      "image/png": "[encoded data removed]",
      "text/plain": [
       "<Figure size 720x432 with 1 Axes>"
      ]
     },
     "metadata": {
      "needs_background": "light"
     },
     "output_type": "display_data"
    }
   ],
   "source": [
    "top_10_features = sorted_coef_df.head(10)\n",
    "plt.figure(figsize=(10, 6))\n",
    "sns.barplot(x='Absolute Coefficient', y='Feature', data=top_10_features, palette='viridis')\n",
    "plt.title('Top 10 Important Features based on Absolute Coefficients')\n",
    "plt.xlabel('Importance')\n",
    "plt.ylabel('Feature')\n",
    "plt.savefig(\"Top_10_features_Logistic\", dpi=300, bbox_inches='tight')\n",
    "plt.show()"
   ]
  },
  {
   "cell_type": "markdown",
   "id": "a4820da3",
   "metadata": {},
   "source": [
    "### Random forest"
   ]
  },
  {
   "cell_type": "markdown",
   "id": "a4172228",
   "metadata": {},
   "source": [
    "#### Train model"
   ]
  },
  {
   "cell_type": "code",
   "execution_count": 28,
   "id": "a7d2072b",
   "metadata": {},
   "outputs": [
    {
     "data": {
      "text/plain": [
       "0.9897744420617902"
      ]
     },
     "execution_count": 28,
     "metadata": {},
     "output_type": "execute_result"
    }
   ],
   "source": [
    "from sklearn.ensemble import RandomForestClassifier\n",
    "\n",
    "rf = RandomForestClassifier(n_estimators = 100)\n",
    "rf.fit(X_train, y_train)\n",
    "rf.score(X_test, y_test) # ~98.98% of predictions for test set are correct"
   ]
  },
  {
   "cell_type": "markdown",
   "id": "2f7d3cfc",
   "metadata": {},
   "source": [
    "#### Model preformance metrics"
   ]
  },
  {
   "cell_type": "code",
   "execution_count": 30,
   "id": "f631f6bf",
   "metadata": {},
   "outputs": [],
   "source": [
    "# Predicted y for X_test\n",
    "y_test_pred_rf = rf.predict(X_test)"
   ]
  },
  {
   "cell_type": "code",
   "execution_count": 32,
   "id": "5903d1b2",
   "metadata": {},
   "outputs": [
    {
     "data": {
      "image/png": "[encoded data removed]",
      "text/plain": [
       "<Figure size 432x288 with 2 Axes>"
      ]
     },
     "metadata": {
      "needs_background": "light"
     },
     "output_type": "display_data"
    }
   ],
   "source": [
    "from sklearn.metrics import confusion_matrix\n",
    "\n",
    "# confusion matrix for RF model\n",
    "class_names=[\"Not Skipped\", \"Skipped\"]\n",
    "fig, ax = plt.subplots()\n",
    "\n",
    "sns.heatmap(pd.DataFrame(confusion_matrix(y_test, y_test_pred_rf)), annot=True, cmap=\"YlGnBu\" ,fmt='g')\n",
    "\n",
    "plt.tight_layout()\n",
    "plt.title('Confusion Matrix for Random Forest', y=1.1)\n",
    "plt.ylabel('Actual')\n",
    "plt.xlabel('Predicted')\n",
    "ax.set_xticklabels(class_names)\n",
    "ax.set_yticklabels(class_names)\n",
    "plt.savefig(\"confusion_matrix_random_forest.png\", dpi=300, bbox_inches='tight')"
   ]
  },
  {
   "cell_type": "code",
   "execution_count": 35,
   "id": "68af2d51",
   "metadata": {
    "scrolled": false
   },
   "outputs": [
    {
     "data": {
      "image/png": "[encoded data removed]",
      "text/plain": [
       "<Figure size 576x432 with 1 Axes>"
      ]
     },
     "metadata": {
      "needs_background": "light"
     },
     "output_type": "display_data"
    }
   ],
   "source": [
    "import matplotlib.pyplot as plt\n",
    "from sklearn.metrics import roc_curve, auc\n",
    "\n",
    "# ROC curve for RF model\n",
    "y_score = rf.predict_proba(X_test)[:, 1]  # Probability of class 1\n",
    "fpr, tpr, _ = roc_curve(y_test, y_score)\n",
    "roc_auc = auc(fpr, tpr)\n",
    "\n",
    "plt.figure(figsize=(8, 6))\n",
    "plt.plot(fpr, tpr, color='darkorange', lw=2, label='ROC curve (area = {:.2f})'.format(roc_auc))\n",
    "plt.plot([0, 1], [0, 1], color='navy', lw=2, linestyle='--')\n",
    "plt.xlim([0.0, 1.0])\n",
    "plt.ylim([0.0, 1.05])\n",
    "plt.xlabel('False Positive Rate')\n",
    "plt.ylabel('True Positive Rate')\n",
    "plt.title('Receiver Operating Characteristic (ROC) for Random Forest')\n",
    "plt.legend(loc='lower right')\n",
    "plt.savefig(\"ROC_RF.png\", dpi=300)\n",
    "plt.show()"
   ]
  },
  {
   "cell_type": "markdown",
   "id": "76aa0dac",
   "metadata": {},
   "source": [
    "#### Feature Importance"
   ]
  },
  {
   "cell_type": "code",
   "execution_count": 40,
   "id": "33c1b0a0",
   "metadata": {},
   "outputs": [
    {
     "data": {
      "image/png": "[encoded data removed]",
      "text/plain": [
       "<Figure size 720x432 with 1 Axes>"
      ]
     },
     "metadata": {
      "needs_background": "light"
     },
     "output_type": "display_data"
    }
   ],
   "source": [
    "# Get feature importance scores and feature names\n",
    "feature_importance = rf.feature_importances_\n",
    "feature_names = X.columns  \n",
    "\n",
    "# Sort feature importance in descending order\n",
    "sorted_idx = feature_importance.argsort()[::-1]\n",
    "\n",
    "# Select the top N most important features to display (e.g., top 10)\n",
    "top_n = 10\n",
    "sorted_feature_names = [feature_names[i] for i in sorted_idx[:top_n]]\n",
    "sorted_feature_importance = feature_importance[sorted_idx[:top_n]]\n",
    "\n",
    "plt.figure(figsize=(10, 6))\n",
    "sns.barplot(x=sorted_feature_importance, y=sorted_feature_names, palette='viridis')\n",
    "plt.title('Top 10 Important Features from RF')\n",
    "plt.xlabel('Importance')\n",
    "plt.ylabel('Feature')\n",
    "plt.savefig(\"Top_10_features_RF\", dpi=300, bbox_inches='tight')\n",
    "plt.show()"
   ]
  },
  {
   "cell_type": "code",
   "execution_count": 41,
   "id": "3f5f2ac5",
   "metadata": {},
   "outputs": [],
   "source": [
    "# Create a DataFrame to associate coefficients with feature names\n",
    "coef_df1 = pd.DataFrame({'Feature': X.columns, 'Importance Score': feature_importance})\n",
    "\n",
    "# Sort the DataFrame by the absolute values of coefficients to see the most important features\n",
    "sorted_coef_df1 = coef_df1.sort_values(by='Importance Score', ascending=False)\n",
    "sorted_coef_df1[\"Importance\"] = range(1, len(sorted_coef_df1) + 1)"
   ]
  },
  {
   "cell_type": "code",
   "execution_count": 43,
   "id": "89eb0f86",
   "metadata": {},
   "outputs": [
    {
     "data": {
      "text/html": [
       "<div>\n",
       "<style scoped>\n",
       "    .dataframe tbody tr th:only-of-type {\n",
       "        vertical-align: middle;\n",
       "    }\n",
       "\n",
       "    .dataframe tbody tr th {\n",
       "        vertical-align: top;\n",
       "    }\n",
       "\n",
       "    .dataframe thead th {\n",
       "        text-align: right;\n",
       "    }\n",
       "</style>\n",
       "<table border=\"1\" class=\"dataframe\">\n",
       "  <thead>\n",
       "    <tr style=\"text-align: right;\">\n",
       "      <th></th>\n",
       "      <th>Importance</th>\n",
       "      <th>Feature</th>\n",
       "      <th>Importance Score</th>\n",
       "    </tr>\n",
       "  </thead>\n",
       "  <tbody>\n",
       "    <tr>\n",
       "      <th>52</th>\n",
       "      <td>1</td>\n",
       "      <td>hist_user_behavior_reason_end_trackdone</td>\n",
       "      <td>0.510835</td>\n",
       "    </tr>\n",
       "    <tr>\n",
       "      <th>49</th>\n",
       "      <td>2</td>\n",
       "      <td>hist_user_behavior_reason_end_fwdbtn</td>\n",
       "      <td>0.207337</td>\n",
       "    </tr>\n",
       "    <tr>\n",
       "      <th>45</th>\n",
       "      <td>3</td>\n",
       "      <td>hist_user_behavior_reason_start_trackdone</td>\n",
       "      <td>0.065626</td>\n",
       "    </tr>\n",
       "    <tr>\n",
       "      <th>42</th>\n",
       "      <td>4</td>\n",
       "      <td>hist_user_behavior_reason_start_fwdbtn</td>\n",
       "      <td>0.047957</td>\n",
       "    </tr>\n",
       "    <tr>\n",
       "      <th>48</th>\n",
       "      <td>5</td>\n",
       "      <td>hist_user_behavior_reason_end_endplay</td>\n",
       "      <td>0.040508</td>\n",
       "    </tr>\n",
       "  </tbody>\n",
       "</table>\n",
       "</div>"
      ],
      "text/plain": [
       "    Importance                                    Feature  Importance Score\n",
       "52           1    hist_user_behavior_reason_end_trackdone          0.510835\n",
       "49           2       hist_user_behavior_reason_end_fwdbtn          0.207337\n",
       "45           3  hist_user_behavior_reason_start_trackdone          0.065626\n",
       "42           4     hist_user_behavior_reason_start_fwdbtn          0.047957\n",
       "48           5      hist_user_behavior_reason_end_endplay          0.040508"
      ]
     },
     "execution_count": 43,
     "metadata": {},
     "output_type": "execute_result"
    }
   ],
   "source": [
    "sorted_coef_df1[[\"Importance\", \"Feature\", \"Importance Score\"]].head()"
   ]
  },
  {
   "cell_type": "code",
   "execution_count": null,
   "id": "e8c6e591",
   "metadata": {},
   "outputs": [],
   "source": [
    "# what if we use the same logistic reg model but exclude all categorical variables from X?"
   ]
  },
  {
   "cell_type": "code",
   "execution_count": 44,
   "id": "7a206d24",
   "metadata": {},
   "outputs": [],
   "source": [
    "columns_to_drop1 = ['session_id', 'track_id_clean', 'skip_1', 'skip_2', 'skip_3', 'not_skipped', 'track_id', 'date',  'context_type', 'mode', \n",
    "                   \"hist_user_behavior_reason_start\", \"hist_user_behavior_reason_end\"]\n",
    "X1 = merged.drop(columns_to_drop1, axis=1)\n",
    "y1 = merged['not_skipped']"
   ]
  },
  {
   "cell_type": "code",
   "execution_count": 45,
   "id": "a9b5e25b",
   "metadata": {},
   "outputs": [
    {
     "data": {
      "text/plain": [
       "((117516, 39), (50364, 39), (117516,), (50364,))"
      ]
     },
     "execution_count": 45,
     "metadata": {},
     "output_type": "execute_result"
    }
   ],
   "source": [
    "X1_train, X1_test, y1_train, y1_test = train_test_split(X1, y1, test_size = 0.3)\n",
    "X1_train.shape, X1_test.shape, y1_train.shape, y1_test.shape\n",
    "# much fewer features (39 vs. 53)"
   ]
  },
  {
   "cell_type": "code",
   "execution_count": 46,
   "id": "c707d1a7",
   "metadata": {},
   "outputs": [
    {
     "data": {
      "text/plain": [
       "0.664164879675959"
      ]
     },
     "execution_count": 46,
     "metadata": {},
     "output_type": "execute_result"
    }
   ],
   "source": [
    "m1 = LogisticRegression(max_iter = 2000)\n",
    "m1.fit(X1_train, y1_train)\n",
    "m1.score(X1_test, y1_test)\n",
    "# bad prediction accuracy: only ~66%"
   ]
  },
  {
   "cell_type": "code",
   "execution_count": null,
   "id": "519ef912",
   "metadata": {},
   "outputs": [],
   "source": []
  }
 ],
 "metadata": {
  "kernelspec": {
   "display_name": "Python 3 (ipykernel)",
   "language": "python",
   "name": "python3"
  },
  "language_info": {
   "codemirror_mode": {
    "name": "ipython",
    "version": 3
   },
   "file_extension": ".py",
   "mimetype": "text/x-python",
   "name": "python",
   "nbconvert_exporter": "python",
   "pygments_lexer": "ipython3",
   "version": "3.9.7"
  }
 },
 "nbformat": 4,
 "nbformat_minor": 5
}
